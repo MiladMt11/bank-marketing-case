{
 "cells": [
  {
   "cell_type": "markdown",
   "id": "d85e37d2",
   "metadata": {},
   "source": [
    "# Feature Engineering & Preprocessing Pipeline\n",
    "In this notebook, we build and test a feature engineering and preprocessing pipeline to prepare the dataset for machine learning modeling. The pipeline includes:\n",
    "1. creating new features\n",
    "2. encoding features\n",
    "3. standardize values\n",
    "4. setup a functioning pipeline"
   ]
  },
  {
   "cell_type": "code",
   "execution_count": 1,
   "id": "3a8d0280",
   "metadata": {},
   "outputs": [],
   "source": [
    "import sys, os\n",
    "sys.path.append(os.path.abspath(\"..\"))\n",
    "import pandas as pd\n",
    "from sklearn.pipeline import Pipeline\n",
    "from sklearn.compose import ColumnTransformer\n",
    "from sklearn.preprocessing import OneHotEncoder, StandardScaler, FunctionTransformer"
   ]
  },
  {
   "cell_type": "markdown",
   "id": "a52414b1",
   "metadata": {},
   "source": [
    "## Feature Engineering Function"
   ]
  },
  {
   "cell_type": "code",
   "execution_count": 2,
   "id": "b3a30caa",
   "metadata": {},
   "outputs": [],
   "source": [
    "def engineer_features(df):\n",
    "    df = df.copy()\n",
    "    \n",
    "    # Map binary\n",
    "    df[\"contact_mode\"] = df[\"contact_mode\"].map({\"telephone\": 0, \"cellular\": 1})\n",
    "    # Since there's only 3 \"yes\" values, we ignore them and just consider \"unknown\" and \"no\"\n",
    "    df[\"is_credit_unknown\"] = (df[\"has_credit\"] == \"unknown\").astype(int)\n",
    "    \n",
    "    # New engineered features\n",
    "    df[\"any_loan\"] = ((df[\"housing_loan\"] == \"yes\") | (df[\"personal_loan\"] == \"yes\")).astype(int)\n",
    "    df[\"has_been_contacted_before\"] = (df[\"nb_previous_contact\"] > 0).astype(int)\n",
    "    df[\"no_recent_contact\"] = ((df[\"N_last_days\"] == 999) & (df['nb_previous_contact'] == 0)).astype(int)\n",
    "    df[\"recent_unsuccessful_contacts\"] = ((df[\"previous_outcome\"] == \"failure\") & (df[\"N_last_days\"] < 30)).astype(int)\n",
    "    \n",
    "    # return with redundant features dropped, NOTE!: dropping last_contact_duration, since it is a leaky feature\n",
    "    df = df.drop(columns=['has_credit', 'last_contact_duration'])\n",
    "    return df"
   ]
  },
  {
   "cell_type": "markdown",
   "id": "a9cef1b1",
   "metadata": {},
   "source": [
    "## Pipeline Function"
   ]
  },
  {
   "cell_type": "code",
   "execution_count": 3,
   "id": "0c825085",
   "metadata": {},
   "outputs": [],
   "source": [
    "def get_preprocessing_pipeline(model_type=None, drop_features=None):\n",
    "    \n",
    "    \"\"\"\n",
    "    1) engineer_features\n",
    "    2) drop any columns in drop_features\n",
    "    3) one-hot categorical + conditional scaling on numeric\n",
    "    \"\"\"\n",
    "    \n",
    "    # Feature list\n",
    "    onehot_features = [\n",
    "    \"occupation\", \"marital_status\", \"month\", \"week_day\",\n",
    "    \"housing_loan\", \"personal_loan\", \"education\", \"previous_outcome\"\n",
    "    ]\n",
    "\n",
    "    base_numeric_features = [\n",
    "    \"age\", \"N_last_days\", \"nb_previous_contact\",\n",
    "    \"emp_var_rate\", \"cons_price_index\", \"cons_conf_index\", \"euri_3_month\", \"nb_employees\"\n",
    "    ]\n",
    "\n",
    "    engineered_numeric = [\n",
    "    \"contact_mode\", \"is_credit_unknown\", \"any_loan\", \"has_been_contacted_before\",\n",
    "    \"no_recent_contact\", \"recent_unsuccessful_contacts\"\n",
    "    ]\n",
    "\n",
    "    # list of all numeric features\n",
    "    all_numeric = base_numeric_features + engineered_numeric\n",
    "    \n",
    "    # drop the redundant features if needed\n",
    "    drop_features = set(drop_features or [])\n",
    "\n",
    "    # wrap engineering function\n",
    "    engineer = FunctionTransformer(engineer_features, validate=False)\n",
    "\n",
    "    # filter out any columns to drop\n",
    "    onehot_feats = [f for f in onehot_features if f not in drop_features]\n",
    "    numeric_feats = [f for f in all_numeric if f not in drop_features]\n",
    "\n",
    "    # pick scaler vs passthrough\n",
    "    numeric_transformer = (\n",
    "        StandardScaler() if model_type == \"logreg\"\n",
    "        else \"passthrough\"\n",
    "    )\n",
    "    \n",
    "    # create the column transformer module to encode features\n",
    "    preprocessor = ColumnTransformer(\n",
    "        transformers=[\n",
    "            (\"onehot\", OneHotEncoder(handle_unknown=\"ignore\", sparse_output=False), onehot_feats),\n",
    "            (\"num\",    numeric_transformer,                                      numeric_feats),\n",
    "        ],\n",
    "        remainder=\"drop\"\n",
    "    )\n",
    "\n",
    "    return Pipeline(steps=[\n",
    "        (\"engineer\",    engineer),\n",
    "        (\"preprocessor\", preprocessor),\n",
    "    ])\n"
   ]
  },
  {
   "cell_type": "markdown",
   "id": "4732a17e",
   "metadata": {},
   "source": [
    "## Test"
   ]
  },
  {
   "cell_type": "code",
   "execution_count": 4,
   "id": "91ea8c5d",
   "metadata": {},
   "outputs": [
    {
     "name": "stdout",
     "output_type": "stream",
     "text": [
      "Scaled shape: (41188, 62)\n",
      "Raw shape: (41188, 62)\n"
     ]
    }
   ],
   "source": [
    "# Load data\n",
    "df = pd.read_csv('../data/bank_data.csv')\n",
    "\n",
    "# Logistic Regression pipeline (with scaling and dropping a feature)\n",
    "logreg_pipe = get_preprocessing_pipeline(\n",
    "    model_type='logreg',\n",
    "    drop_features=['has_credit', 'last_contact_duration']\n",
    ")\n",
    "X_scaled = logreg_pipe.fit_transform(df)\n",
    "print('Scaled shape:', X_scaled.shape)\n",
    "\n",
    "# Tree-based pipeline (no scaling)\n",
    "tree_pipe = get_preprocessing_pipeline(\n",
    "    model_type='tree'\n",
    ")\n",
    "X_raw = tree_pipe.fit_transform(df)\n",
    "print('Raw shape:', X_raw.shape)"
   ]
  }
 ],
 "metadata": {
  "kernelspec": {
   "display_name": "Python (2021)",
   "language": "python",
   "name": "2021"
  },
  "language_info": {
   "codemirror_mode": {
    "name": "ipython",
    "version": 3
   },
   "file_extension": ".py",
   "mimetype": "text/x-python",
   "name": "python",
   "nbconvert_exporter": "python",
   "pygments_lexer": "ipython3",
   "version": "3.11.4"
  }
 },
 "nbformat": 4,
 "nbformat_minor": 5
}
